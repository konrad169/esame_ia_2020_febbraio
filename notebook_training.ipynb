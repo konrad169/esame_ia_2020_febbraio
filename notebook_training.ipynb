{
 "cells": [
  {
   "cell_type": "code",
   "execution_count": 53,
   "outputs": [
    {
     "name": "stdout",
     "output_type": "stream",
     "text": [
      "Requirement already satisfied: scikit-learn==0.23.1 in ./venv/lib/python3.8/site-packages (from -r requirements.txt (line 1)) (0.23.1)\r\n",
      "Requirement already satisfied: matplotlib==3.2.2 in ./venv/lib/python3.8/site-packages (from -r requirements.txt (line 2)) (3.2.2)\r\n",
      "Requirement already satisfied: pandas==1.0.5 in ./venv/lib/python3.8/site-packages (from -r requirements.txt (line 3)) (1.0.5)\r\n",
      "Requirement already satisfied: numpy==1.18.5 in ./venv/lib/python3.8/site-packages (from -r requirements.txt (line 4)) (1.18.5)\r\n",
      "Requirement already satisfied: seaborn==0.10.1 in ./venv/lib/python3.8/site-packages (from -r requirements.txt (line 5)) (0.10.1)\r\n",
      "Requirement already satisfied: python-dateutil>=2.1 in ./venv/lib/python3.8/site-packages (from matplotlib==3.2.2->-r requirements.txt (line 2)) (2.8.1)\r\n",
      "Requirement already satisfied: pyparsing!=2.0.4,!=2.1.2,!=2.1.6,>=2.0.1 in ./venv/lib/python3.8/site-packages (from matplotlib==3.2.2->-r requirements.txt (line 2)) (2.4.7)\r\n",
      "Requirement already satisfied: kiwisolver>=1.0.1 in ./venv/lib/python3.8/site-packages (from matplotlib==3.2.2->-r requirements.txt (line 2)) (1.3.1)\r\n",
      "Requirement already satisfied: cycler>=0.10 in ./venv/lib/python3.8/site-packages (from matplotlib==3.2.2->-r requirements.txt (line 2)) (0.10.0)\r\n",
      "Requirement already satisfied: pytz>=2017.2 in ./venv/lib/python3.8/site-packages (from pandas==1.0.5->-r requirements.txt (line 3)) (2021.1)\r\n",
      "Requirement already satisfied: joblib>=0.11 in ./venv/lib/python3.8/site-packages (from scikit-learn==0.23.1->-r requirements.txt (line 1)) (1.0.1)\r\n",
      "Requirement already satisfied: scipy>=0.19.1 in ./venv/lib/python3.8/site-packages (from scikit-learn==0.23.1->-r requirements.txt (line 1)) (1.6.1)\r\n",
      "Requirement already satisfied: threadpoolctl>=2.0.0 in ./venv/lib/python3.8/site-packages (from scikit-learn==0.23.1->-r requirements.txt (line 1)) (2.1.0)\r\n",
      "Requirement already satisfied: six in ./venv/lib/python3.8/site-packages (from cycler>=0.10->matplotlib==3.2.2->-r requirements.txt (line 2)) (1.15.0)\r\n"
     ]
    }
   ],
   "source": [
    "!pip install -r requirements.txt"
   ],
   "metadata": {
    "collapsed": false,
    "pycharm": {
     "name": "#%%\n"
    }
   }
  },
  {
   "cell_type": "code",
   "execution_count": 54,
   "outputs": [],
   "source": [
    "import numpy as np\n",
    "import pandas as pd\n",
    "import matplotlib.pyplot as plt\n",
    "import seaborn as sns\n",
    "from sklearn.pipeline import Pipeline\n",
    "from sklearn.impute import SimpleImputer\n",
    "from sklearn.preprocessing import OneHotEncoder\n",
    "from sklearn.preprocessing import StandardScaler\n",
    "from sklearn.compose import ColumnTransformer\n",
    "from sklearn.tree import DecisionTreeClassifier\n",
    "from sklearn.feature_selection import SelectKBest, f_classif\n",
    "from sklearn.metrics import accuracy_score"
   ],
   "metadata": {
    "collapsed": false,
    "pycharm": {
     "name": "#%%\n"
    }
   }
  },
  {
   "cell_type": "markdown",
   "source": [
    "#Lettura del dataset"
   ],
   "metadata": {
    "collapsed": false,
    "pycharm": {
     "name": "#%% md\n"
    }
   }
  },
  {
   "cell_type": "code",
   "execution_count": 55,
   "outputs": [],
   "source": [
    "traindata = pd.read_csv(\"train.csv\",index_col=[0])\n",
    "testdata = pd.read_csv(\"test.csv\",index_col=[0])"
   ],
   "metadata": {
    "collapsed": false,
    "pycharm": {
     "name": "#%%\n"
    }
   }
  },
  {
   "cell_type": "markdown",
   "source": [
    "# Check dei valori nulli\n",
    "La prima operazione da effettuare è il check dei valori nulli su tutti i campi dei due dataset, dato che un singolo valore nullo in un campo diverso da salary può far creare non pochi problemi."
   ],
   "metadata": {
    "collapsed": false,
    "pycharm": {
     "name": "#%% md\n"
    }
   }
  },
  {
   "cell_type": "code",
   "execution_count": 56,
   "outputs": [
    {
     "name": "stdout",
     "output_type": "stream",
     "text": [
      "status             0\n",
      "gender             0\n",
      "ssc_p              0\n",
      "ssc_b              0\n",
      "hsc_p              0\n",
      "hsc_b              0\n",
      "hsc_s              0\n",
      "degree_p           0\n",
      "degree_t           0\n",
      "workex             0\n",
      "etest_p            0\n",
      "specialisation     0\n",
      "mba_p              0\n",
      "salary            45\n",
      "dtype: int64\n",
      "status             0\n",
      "gender             0\n",
      "ssc_p              0\n",
      "ssc_b              0\n",
      "hsc_p              0\n",
      "hsc_b              0\n",
      "hsc_s              0\n",
      "degree_p           0\n",
      "degree_t           0\n",
      "workex             0\n",
      "etest_p            0\n",
      "specialisation     0\n",
      "mba_p              0\n",
      "salary            10\n",
      "dtype: int64\n"
     ]
    }
   ],
   "source": [
    "print(traindata.isnull().sum())\n",
    "print(testdata.isnull().sum())"
   ],
   "metadata": {
    "collapsed": false,
    "pycharm": {
     "name": "#%%\n"
    }
   }
  },
  {
   "cell_type": "code",
   "execution_count": 56,
   "outputs": [],
   "source": [],
   "metadata": {
    "collapsed": false,
    "pycharm": {
     "name": "#%%\n"
    }
   }
  },
  {
   "cell_type": "markdown",
   "source": [
    "#Descrizione del dataset"
   ],
   "metadata": {
    "collapsed": false
   }
  },
  {
   "cell_type": "code",
   "execution_count": 57,
   "outputs": [
    {
     "data": {
      "text/plain": "            ssc_p       hsc_p    degree_p     etest_p       mba_p  \\\ncount  137.000000  137.000000  137.000000  137.000000  137.000000   \nmean    67.314380   66.197080   65.749927   73.059708   62.038321   \nstd     10.701021   11.414077    7.505015   13.029185    5.820365   \nmin     40.890000   37.000000   50.000000   50.000000   51.210000   \n25%     61.080000   61.000000   60.000000   62.000000   57.340000   \n50%     67.000000   64.890000   65.000000   71.200000   61.310000   \n75%     74.900000   73.000000   70.000000   84.000000   65.990000   \nmax     87.000000   97.000000   85.000000   98.000000   76.180000   \n\n              salary  \ncount      92.000000  \nmean   285804.347826  \nstd     76669.583512  \nmin    200000.000000  \n25%    240000.000000  \n50%    265000.000000  \n75%    300000.000000  \nmax    650000.000000  ",
      "text/html": "<div>\n<style scoped>\n    .dataframe tbody tr th:only-of-type {\n        vertical-align: middle;\n    }\n\n    .dataframe tbody tr th {\n        vertical-align: top;\n    }\n\n    .dataframe thead th {\n        text-align: right;\n    }\n</style>\n<table border=\"1\" class=\"dataframe\">\n  <thead>\n    <tr style=\"text-align: right;\">\n      <th></th>\n      <th>ssc_p</th>\n      <th>hsc_p</th>\n      <th>degree_p</th>\n      <th>etest_p</th>\n      <th>mba_p</th>\n      <th>salary</th>\n    </tr>\n  </thead>\n  <tbody>\n    <tr>\n      <th>count</th>\n      <td>137.000000</td>\n      <td>137.000000</td>\n      <td>137.000000</td>\n      <td>137.000000</td>\n      <td>137.000000</td>\n      <td>92.000000</td>\n    </tr>\n    <tr>\n      <th>mean</th>\n      <td>67.314380</td>\n      <td>66.197080</td>\n      <td>65.749927</td>\n      <td>73.059708</td>\n      <td>62.038321</td>\n      <td>285804.347826</td>\n    </tr>\n    <tr>\n      <th>std</th>\n      <td>10.701021</td>\n      <td>11.414077</td>\n      <td>7.505015</td>\n      <td>13.029185</td>\n      <td>5.820365</td>\n      <td>76669.583512</td>\n    </tr>\n    <tr>\n      <th>min</th>\n      <td>40.890000</td>\n      <td>37.000000</td>\n      <td>50.000000</td>\n      <td>50.000000</td>\n      <td>51.210000</td>\n      <td>200000.000000</td>\n    </tr>\n    <tr>\n      <th>25%</th>\n      <td>61.080000</td>\n      <td>61.000000</td>\n      <td>60.000000</td>\n      <td>62.000000</td>\n      <td>57.340000</td>\n      <td>240000.000000</td>\n    </tr>\n    <tr>\n      <th>50%</th>\n      <td>67.000000</td>\n      <td>64.890000</td>\n      <td>65.000000</td>\n      <td>71.200000</td>\n      <td>61.310000</td>\n      <td>265000.000000</td>\n    </tr>\n    <tr>\n      <th>75%</th>\n      <td>74.900000</td>\n      <td>73.000000</td>\n      <td>70.000000</td>\n      <td>84.000000</td>\n      <td>65.990000</td>\n      <td>300000.000000</td>\n    </tr>\n    <tr>\n      <th>max</th>\n      <td>87.000000</td>\n      <td>97.000000</td>\n      <td>85.000000</td>\n      <td>98.000000</td>\n      <td>76.180000</td>\n      <td>650000.000000</td>\n    </tr>\n  </tbody>\n</table>\n</div>"
     },
     "execution_count": 57,
     "metadata": {},
     "output_type": "execute_result"
    }
   ],
   "source": [
    "traindata.describe()"
   ],
   "metadata": {
    "collapsed": false,
    "pycharm": {
     "name": "#%%\n"
    }
   }
  },
  {
   "cell_type": "code",
   "execution_count": 58,
   "outputs": [
    {
     "data": {
      "text/plain": "Placed        0.671533\nNot Placed    0.328467\nName: status, dtype: float64"
     },
     "execution_count": 58,
     "metadata": {},
     "output_type": "execute_result"
    }
   ],
   "source": [
    "traindata.status.value_counts(normalize=True)"
   ],
   "metadata": {
    "collapsed": false,
    "pycharm": {
     "name": "#%%\n"
    }
   }
  },
  {
   "cell_type": "markdown",
   "source": [
    "Possiamo vedere che nel training set, si hanno circa il 65% degli studenti che hanno ricevuto un'occupazione nel primo anno (1=Placed) ed il restante 35% non hanno ricevuto un'occupazione (0=not placed)."
   ],
   "metadata": {
    "collapsed": false
   }
  },
  {
   "cell_type": "markdown",
   "source": [
    "# Feature Selection\n",
    "Heatmap:\n",
    "Per la feature selection utilizzo una heatmap. Il comando df.corr() dei DataFrame, permette di ottenere una matrice di correlazione tra features NxN dove viene applicata la correlazione di ogni feature con l'altra.\n",
    "I valori ottenuti sono stati visualizzati tramite una heatmap e vengono selezionate le feature con correlazione >0.4\n",
    "Utilizzo soltanto le feature che hanno un valore di correlazione con la target feature superiore ad una treshold."
   ],
   "metadata": {
    "collapsed": false
   }
  },
  {
   "cell_type": "code",
   "execution_count": 59,
   "outputs": [
    {
     "data": {
      "text/plain": "<Figure size 1296x1296 with 2 Axes>",
      "image/png": "[encoded data removed]"
     },
     "metadata": {
      "needs_background": "light"
     },
     "output_type": "display_data"
    },
    {
     "name": "stdout",
     "output_type": "stream",
     "text": [
      "          ssc_p  hsc_p  degree_p  etest_p  mba_p  salary\n",
      "ssc_p      True   True      True    False   True   False\n",
      "hsc_p      True   True      True    False  False   False\n",
      "degree_p   True   True      True    False  False   False\n",
      "etest_p   False  False     False     True  False   False\n",
      "mba_p      True  False     False    False   True   False\n",
      "salary    False  False     False    False  False    True\n"
     ]
    }
   ],
   "source": [
    "correlation = traindata.corr()\n",
    "plt.figure(figsize=(18,18))\n",
    "sns.heatmap(correlation, vmax=1,  cmap='coolwarm', square=True,annot=True)\n",
    "plt.title('Correlazione tra features:')\n",
    "plt.show()\n",
    "print(correlation>0.4)"
   ],
   "metadata": {
    "collapsed": false,
    "pycharm": {
     "name": "#%%\n"
    }
   }
  },
  {
   "cell_type": "code",
   "execution_count": 60,
   "outputs": [],
   "source": [
    "#Ecco le feature che verranno utilizzate:\n",
    "features_utilizzate = ['ssc_p','hsc_p','degree_p','mba_p']\n",
    "#Seleziono le feature da utilizzare su test e train\n",
    "X_train = traindata[features_utilizzate]\n",
    "y_train = traindata.status\n",
    "X_test = testdata[features_utilizzate]\n",
    "y_test = testdata.status"
   ],
   "metadata": {
    "collapsed": false,
    "pycharm": {
     "name": "#%%\n"
    }
   }
  },
  {
   "cell_type": "code",
   "execution_count": 61,
   "outputs": [],
   "source": [
    "# Label Encoding per le feature non numeriche\n",
    "cat_cols = [cname for cname in X_train.columns if\n",
    "                    X_train[cname].dtype == \"object\"]\n",
    "\n",
    "# Seleziono le colonne numeriche\n",
    "num_cols = [cname for cname in X_train.columns if\n",
    "                X_train[cname].dtype in ['int64', 'float64']]"
   ],
   "metadata": {
    "collapsed": false,
    "pycharm": {
     "name": "#%%\n"
    }
   }
  },
  {
   "cell_type": "code",
   "execution_count": 62,
   "outputs": [],
   "source": [
    "#pipeline per effettuare in sequenza le diverse operazioni sui dati\n",
    "#i valori mancanti nel campo salary sono rimpiazzati con la media tramite l'imputer\n",
    "#le variabili categoriche sono trasformate tramite OneHot-encoder creando delle nuove colonne che indicano,per ogni valore possibile presente nei dati, la presenza o l'assenza\n",
    "num_transformer = Pipeline(steps=[\n",
    "    ('imputer', SimpleImputer(strategy='median', missing_values=np.nan)),\n",
    "    ('scaler', StandardScaler())\n",
    "])\n",
    "cat_transformer = Pipeline(steps=[\n",
    "    ('imputer', SimpleImputer(strategy='most_frequent', missing_values=np.nan)),\n",
    "    ('onehot', OneHotEncoder(handle_unknown='ignore'))\n",
    "])\n",
    "\n",
    "# preprocessamento dei dati in base al tipo\n",
    "preprocessor = ColumnTransformer(\n",
    "    transformers=[\n",
    "        ('num', num_transformer, num_cols),\n",
    "        ('cat', cat_transformer, cat_cols),\n",
    "    ])\n",
    "\n",
    "# applicando il criterio entropia, il root node effettua una partizione dei dati usando la feature che restituisce il valore d'informazione più alto\n",
    "model = DecisionTreeClassifier(criterion='entropy', random_state=0, max_depth=5, splitter='best')"
   ],
   "metadata": {
    "collapsed": false,
    "pycharm": {
     "name": "#%%\n"
    }
   }
  },
  {
   "cell_type": "code",
   "execution_count": 63,
   "outputs": [],
   "source": [
    "#effettuo una riduzione della dimensionalità tramite la feature selection\n",
    "# dichiaro la pipeline, cosi da consentire il trattamento dei dati, effettuando a cascata delle operazioni.\n",
    "pipeline = Pipeline(steps=[('preprocessor', preprocessor),\n",
    "                               ('skb', SelectKBest(f_classif, k = 4)),\n",
    "                              ('model', model)\n",
    "                             ])\n",
    "# effettuo il training sul modello\n",
    "pipeline.fit(X_train, y_train)\n",
    "# effettuo le predizioni\n",
    "predicts = pipeline.predict(X_test)"
   ],
   "metadata": {
    "collapsed": false,
    "pycharm": {
     "name": "#%%\n"
    }
   }
  },
  {
   "cell_type": "code",
   "execution_count": 64,
   "outputs": [
    {
     "data": {
      "text/plain": "array(['Placed', 'Not Placed', 'Placed', 'Placed', 'Not Placed', 'Placed',\n       'Not Placed', 'Not Placed', 'Placed', 'Not Placed', 'Not Placed',\n       'Placed', 'Placed', 'Placed', 'Placed', 'Not Placed', 'Placed',\n       'Not Placed', 'Placed', 'Placed', 'Placed', 'Placed', 'Placed',\n       'Placed', 'Placed', 'Placed', 'Placed', 'Placed', 'Not Placed',\n       'Placed', 'Not Placed', 'Placed', 'Not Placed', 'Placed',\n       'Not Placed'], dtype=object)"
     },
     "execution_count": 64,
     "metadata": {},
     "output_type": "execute_result"
    }
   ],
   "source": [
    "# stampo la predizione effettuata\n",
    "predicts"
   ],
   "metadata": {
    "collapsed": false,
    "pycharm": {
     "name": "#%%\n"
    }
   }
  },
  {
   "cell_type": "code",
   "execution_count": 65,
   "outputs": [
    {
     "data": {
      "text/plain": "82.85714285714286"
     },
     "execution_count": 65,
     "metadata": {},
     "output_type": "execute_result"
    }
   ],
   "source": [
    "#calcolo l'accuracy del modello\n",
    "model=accuracy_score(predicts, y_test)*100\n",
    "model\n"
   ],
   "metadata": {
    "collapsed": false,
    "pycharm": {
     "name": "#%%\n"
    }
   }
  }
 ],
 "metadata": {
  "kernelspec": {
   "display_name": "Python 3",
   "language": "python",
   "name": "python3"
  },
  "language_info": {
   "codemirror_mode": {
    "name": "ipython",
    "version": 2
   },
   "file_extension": ".py",
   "mimetype": "text/x-python",
   "name": "python",
   "nbconvert_exporter": "python",
   "pygments_lexer": "ipython2",
   "version": "2.7.6"
  }
 },
 "nbformat": 4,
 "nbformat_minor": 0
}